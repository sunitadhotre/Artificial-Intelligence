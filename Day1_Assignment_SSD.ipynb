{
  "nbformat": 4,
  "nbformat_minor": 0,
  "metadata": {
    "colab": {
      "provenance": []
    },
    "kernelspec": {
      "name": "python3",
      "display_name": "Python 3"
    },
    "language_info": {
      "name": "python"
    }
  },
  "cells": [
    {
      "cell_type": "code",
      "execution_count": null,
      "metadata": {
        "id": "4nk7Ga1p6M6G"
      },
      "outputs": [],
      "source": [
        "list1 = [\"US\", 19390600,\"China\", 12014610, \"Japan\", 4872135, \"Germany\", 3684816,\"UK\", 2624529, \"India\", 2611012, \"France\", 2583560, \"Brazil\", 2054969]\n",
        "\n"
      ]
    },
    {
      "cell_type": "code",
      "source": [
        "list1"
      ],
      "metadata": {
        "colab": {
          "base_uri": "https://localhost:8080/"
        },
        "id": "BSzJqm3j7zC0",
        "outputId": "c2d0c135-89e6-4c26-a125-29e009b97a6e"
      },
      "execution_count": null,
      "outputs": [
        {
          "output_type": "execute_result",
          "data": {
            "text/plain": [
              "['US',\n",
              " 19390600,\n",
              " 'China',\n",
              " 12014610,\n",
              " 'Japan',\n",
              " 4872135,\n",
              " 'Germany',\n",
              " 3684816,\n",
              " 'UK',\n",
              " 2624529,\n",
              " 'India',\n",
              " 2611012,\n",
              " 'France',\n",
              " 2583560,\n",
              " 'Brazil',\n",
              " 2054969]"
            ]
          },
          "metadata": {},
          "execution_count": 8
        }
      ]
    },
    {
      "cell_type": "code",
      "source": [
        "list2 = [\"Italy\", 1937894, \"Canada\", 1652412]\n",
        "list1.extend(list2)\n",
        "list1"
      ],
      "metadata": {
        "colab": {
          "base_uri": "https://localhost:8080/"
        },
        "id": "VGAlFRKb-izL",
        "outputId": "6b28250e-1252-47bc-f122-c84ea7c96e10"
      },
      "execution_count": null,
      "outputs": [
        {
          "output_type": "execute_result",
          "data": {
            "text/plain": [
              "['US',\n",
              " 19390600,\n",
              " 'China',\n",
              " 12014610,\n",
              " 'Japan',\n",
              " 4872135,\n",
              " 'Germany',\n",
              " 3684816,\n",
              " 'UK',\n",
              " 2624529,\n",
              " 'India',\n",
              " 2611012,\n",
              " 'France',\n",
              " 2583560,\n",
              " 'Brazil',\n",
              " 2054969,\n",
              " 'Italy',\n",
              " 1937894,\n",
              " 'Canada',\n",
              " 1652412,\n",
              " 'Italy',\n",
              " 1937894,\n",
              " 'Canada',\n",
              " 1652412]"
            ]
          },
          "metadata": {},
          "execution_count": 10
        }
      ]
    },
    {
      "cell_type": "code",
      "source": [
        "dict1 = {\"US\":19390600, \"China\": 12014610, \"Japan\": 4872135, \"Germany\": 3684816, \"UK\": 2624529, \"India\": 2611012, \"France\": 2583560, \"Brazil\": 2054969}\n",
        "dict1"
      ],
      "metadata": {
        "colab": {
          "base_uri": "https://localhost:8080/"
        },
        "id": "QYn6axSm_dZ6",
        "outputId": "f356a889-6783-4bcb-909e-c2e04a206f01"
      },
      "execution_count": null,
      "outputs": [
        {
          "output_type": "execute_result",
          "data": {
            "text/plain": [
              "{'US': 19390600,\n",
              " 'China': 12014610,\n",
              " 'Japan': 4872135,\n",
              " 'Germany': 3684816,\n",
              " 'UK': 2624529,\n",
              " 'India': 2611012,\n",
              " 'France': 2583560,\n",
              " 'Brazil': 2054969}"
            ]
          },
          "metadata": {},
          "execution_count": 11
        }
      ]
    },
    {
      "cell_type": "code",
      "source": [
        "dict1['Italy']=1937894"
      ],
      "metadata": {
        "id": "5hHEInNFBGIc"
      },
      "execution_count": null,
      "outputs": []
    },
    {
      "cell_type": "code",
      "source": [
        "dict1[\"Canada\"]= 1652412"
      ],
      "metadata": {
        "id": "JRnPEqRZAuVL"
      },
      "execution_count": null,
      "outputs": []
    },
    {
      "cell_type": "code",
      "source": [
        "dict1"
      ],
      "metadata": {
        "id": "8TxAcyOmBUEb",
        "outputId": "eb8f503f-1c6c-4d04-c0e7-3d71785f5acd",
        "colab": {
          "base_uri": "https://localhost:8080/"
        }
      },
      "execution_count": null,
      "outputs": [
        {
          "output_type": "execute_result",
          "data": {
            "text/plain": [
              "{'US': 19390600,\n",
              " 'China': 12014610,\n",
              " 'Japan': 4872135,\n",
              " 'Germany': 3684816,\n",
              " 'UK': 2624529,\n",
              " 'India': 2611012,\n",
              " 'France': 2583560,\n",
              " 'Brazil': 2054969,\n",
              " 'Italy': 1937894,\n",
              " 'Canada': 1652412}"
            ]
          },
          "metadata": {},
          "execution_count": 21
        }
      ]
    }
  ]
}