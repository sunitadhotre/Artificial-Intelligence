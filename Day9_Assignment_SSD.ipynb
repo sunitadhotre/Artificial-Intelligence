{
  "nbformat": 4,
  "nbformat_minor": 0,
  "metadata": {
    "colab": {
      "provenance": [],
      "authorship_tag": "ABX9TyPXm8EOi87QuqkiDQxbz/w0",
      "include_colab_link": true
    },
    "kernelspec": {
      "name": "python3",
      "display_name": "Python 3"
    },
    "language_info": {
      "name": "python"
    }
  },
  "cells": [
    {
      "cell_type": "markdown",
      "metadata": {
        "id": "view-in-github",
        "colab_type": "text"
      },
      "source": [
        "<a href=\"https://colab.research.google.com/github/sunitadhotre/Artificial-Intelligence/blob/main/Day9_Assignment_SSD.ipynb\" target=\"_parent\"><img src=\"https://colab.research.google.com/assets/colab-badge.svg\" alt=\"Open In Colab\"/></a>"
      ]
    },
    {
      "cell_type": "code",
      "execution_count": null,
      "metadata": {
        "id": "YP2VvlnRC84b"
      },
      "outputs": [],
      "source": []
    },
    {
      "cell_type": "code",
      "execution_count": 1,
      "metadata": {
        "id": "e22eb2e5"
      },
      "outputs": [],
      "source": [
        "import pandas as pd\n",
        "import numpy as np\n",
        "import matplotlib.pyplot as plt\n",
        "import seaborn as sns\n",
        "from sklearn.model_selection import StratifiedKFold, GridSearchCV, cross_val_score\n",
        "from sklearn.preprocessing import LabelEncoder\n",
        "from sklearn.tree import DecisionTreeClassifier\n",
        "from sklearn.ensemble import RandomForestClassifier, StackingClassifier\n",
        "from xgboost import XGBClassifier"
      ]
    },
    {
      "cell_type": "code",
      "execution_count": null,
      "metadata": {
        "id": "789b9de0"
      },
      "outputs": [],
      "source": [
        "import os\n",
        "os.chdir(\")"
      ]
    },
    {
      "cell_type": "code",
      "execution_count": null,
      "metadata": {
        "id": "5e73a4c4",
        "outputId": "54b6ecc8-24b6-4b5d-f19e-fad7d093e773"
      },
      "outputs": [
        {
          "data": {
            "text/html": [
              "<div>\n",
              "<style scoped>\n",
              "    .dataframe tbody tr th:only-of-type {\n",
              "        vertical-align: middle;\n",
              "    }\n",
              "\n",
              "    .dataframe tbody tr th {\n",
              "        vertical-align: top;\n",
              "    }\n",
              "\n",
              "    .dataframe thead th {\n",
              "        text-align: right;\n",
              "    }\n",
              "</style>\n",
              "<table border=\"1\" class=\"dataframe\">\n",
              "  <thead>\n",
              "    <tr style=\"text-align: right;\">\n",
              "      <th></th>\n",
              "      <th>x.1</th>\n",
              "      <th>x.2</th>\n",
              "      <th>x.3</th>\n",
              "      <th>x.4</th>\n",
              "      <th>x.5</th>\n",
              "      <th>x.6</th>\n",
              "      <th>x.7</th>\n",
              "      <th>x.8</th>\n",
              "      <th>x.9</th>\n",
              "      <th>x.10</th>\n",
              "      <th>...</th>\n",
              "      <th>x.28</th>\n",
              "      <th>x.29</th>\n",
              "      <th>x.30</th>\n",
              "      <th>x.31</th>\n",
              "      <th>x.32</th>\n",
              "      <th>x.33</th>\n",
              "      <th>x.34</th>\n",
              "      <th>x.35</th>\n",
              "      <th>x.36</th>\n",
              "      <th>classes</th>\n",
              "    </tr>\n",
              "  </thead>\n",
              "  <tbody>\n",
              "    <tr>\n",
              "      <th>0</th>\n",
              "      <td>92</td>\n",
              "      <td>115</td>\n",
              "      <td>120</td>\n",
              "      <td>94</td>\n",
              "      <td>84</td>\n",
              "      <td>102</td>\n",
              "      <td>106</td>\n",
              "      <td>79</td>\n",
              "      <td>84</td>\n",
              "      <td>102</td>\n",
              "      <td>...</td>\n",
              "      <td>104</td>\n",
              "      <td>88</td>\n",
              "      <td>121</td>\n",
              "      <td>128</td>\n",
              "      <td>100</td>\n",
              "      <td>84</td>\n",
              "      <td>107</td>\n",
              "      <td>113</td>\n",
              "      <td>87</td>\n",
              "      <td>grey soil</td>\n",
              "    </tr>\n",
              "    <tr>\n",
              "      <th>1</th>\n",
              "      <td>84</td>\n",
              "      <td>102</td>\n",
              "      <td>106</td>\n",
              "      <td>79</td>\n",
              "      <td>84</td>\n",
              "      <td>102</td>\n",
              "      <td>102</td>\n",
              "      <td>83</td>\n",
              "      <td>80</td>\n",
              "      <td>102</td>\n",
              "      <td>...</td>\n",
              "      <td>100</td>\n",
              "      <td>84</td>\n",
              "      <td>107</td>\n",
              "      <td>113</td>\n",
              "      <td>87</td>\n",
              "      <td>84</td>\n",
              "      <td>99</td>\n",
              "      <td>104</td>\n",
              "      <td>79</td>\n",
              "      <td>grey soil</td>\n",
              "    </tr>\n",
              "    <tr>\n",
              "      <th>2</th>\n",
              "      <td>84</td>\n",
              "      <td>102</td>\n",
              "      <td>102</td>\n",
              "      <td>83</td>\n",
              "      <td>80</td>\n",
              "      <td>102</td>\n",
              "      <td>102</td>\n",
              "      <td>79</td>\n",
              "      <td>84</td>\n",
              "      <td>94</td>\n",
              "      <td>...</td>\n",
              "      <td>87</td>\n",
              "      <td>84</td>\n",
              "      <td>99</td>\n",
              "      <td>104</td>\n",
              "      <td>79</td>\n",
              "      <td>84</td>\n",
              "      <td>99</td>\n",
              "      <td>104</td>\n",
              "      <td>79</td>\n",
              "      <td>grey soil</td>\n",
              "    </tr>\n",
              "  </tbody>\n",
              "</table>\n",
              "<p>3 rows × 37 columns</p>\n",
              "</div>"
            ],
            "text/plain": [
              "   x.1  x.2  x.3  x.4  x.5  x.6  x.7  x.8  x.9  x.10  ...  x.28  x.29  x.30  \\\n",
              "0   92  115  120   94   84  102  106   79   84   102  ...   104    88   121   \n",
              "1   84  102  106   79   84  102  102   83   80   102  ...   100    84   107   \n",
              "2   84  102  102   83   80  102  102   79   84    94  ...    87    84    99   \n",
              "\n",
              "   x.31  x.32  x.33  x.34  x.35  x.36    classes  \n",
              "0   128   100    84   107   113    87  grey soil  \n",
              "1   113    87    84    99   104    79  grey soil  \n",
              "2   104    79    84    99   104    79  grey soil  \n",
              "\n",
              "[3 rows x 37 columns]"
            ]
          },
          "execution_count": 3,
          "metadata": {},
          "output_type": "execute_result"
        }
      ],
      "source": [
        "df = pd.read_csv(\"Satellite.csv\", sep=\";\")\n",
        "df.head(3)"
      ]
    },
    {
      "cell_type": "code",
      "execution_count": null,
      "metadata": {
        "id": "3f9dd7e9",
        "outputId": "89850f30-b0a1-4385-ff25-67826acd649f"
      },
      "outputs": [
        {
          "name": "stdout",
          "output_type": "stream",
          "text": [
            "['cotton crop' 'damp grey soil' 'grey soil' 'red soil'\n",
            " 'vegetation stubble' 'very damp grey soil']\n"
          ]
        }
      ],
      "source": [
        "le = LabelEncoder()\n",
        "df[\"classes\"] = le.fit_transform(df[\"classes\"])\n",
        "print(le.classes_)"
      ]
    },
    {
      "cell_type": "code",
      "execution_count": null,
      "metadata": {
        "id": "7f41c08d"
      },
      "outputs": [],
      "source": [
        "X = df.drop('classes', axis=1)\n",
        "y = df[\"classes\"]"
      ]
    },
    {
      "cell_type": "markdown",
      "metadata": {
        "id": "bca6bf86"
      },
      "source": [
        "### Grid Search for Decision Tree"
      ]
    },
    {
      "cell_type": "code",
      "execution_count": null,
      "metadata": {
        "id": "8cee25f8",
        "outputId": "018416e4-220f-4d2f-a28f-bbf1b7ef9190"
      },
      "outputs": [
        {
          "data": {
            "text/html": [
              "<style>#sk-container-id-1 {color: black;background-color: white;}#sk-container-id-1 pre{padding: 0;}#sk-container-id-1 div.sk-toggleable {background-color: white;}#sk-container-id-1 label.sk-toggleable__label {cursor: pointer;display: block;width: 100%;margin-bottom: 0;padding: 0.3em;box-sizing: border-box;text-align: center;}#sk-container-id-1 label.sk-toggleable__label-arrow:before {content: \"▸\";float: left;margin-right: 0.25em;color: #696969;}#sk-container-id-1 label.sk-toggleable__label-arrow:hover:before {color: black;}#sk-container-id-1 div.sk-estimator:hover label.sk-toggleable__label-arrow:before {color: black;}#sk-container-id-1 div.sk-toggleable__content {max-height: 0;max-width: 0;overflow: hidden;text-align: left;background-color: #f0f8ff;}#sk-container-id-1 div.sk-toggleable__content pre {margin: 0.2em;color: black;border-radius: 0.25em;background-color: #f0f8ff;}#sk-container-id-1 input.sk-toggleable__control:checked~div.sk-toggleable__content {max-height: 200px;max-width: 100%;overflow: auto;}#sk-container-id-1 input.sk-toggleable__control:checked~label.sk-toggleable__label-arrow:before {content: \"▾\";}#sk-container-id-1 div.sk-estimator input.sk-toggleable__control:checked~label.sk-toggleable__label {background-color: #d4ebff;}#sk-container-id-1 div.sk-label input.sk-toggleable__control:checked~label.sk-toggleable__label {background-color: #d4ebff;}#sk-container-id-1 input.sk-hidden--visually {border: 0;clip: rect(1px 1px 1px 1px);clip: rect(1px, 1px, 1px, 1px);height: 1px;margin: -1px;overflow: hidden;padding: 0;position: absolute;width: 1px;}#sk-container-id-1 div.sk-estimator {font-family: monospace;background-color: #f0f8ff;border: 1px dotted black;border-radius: 0.25em;box-sizing: border-box;margin-bottom: 0.5em;}#sk-container-id-1 div.sk-estimator:hover {background-color: #d4ebff;}#sk-container-id-1 div.sk-parallel-item::after {content: \"\";width: 100%;border-bottom: 1px solid gray;flex-grow: 1;}#sk-container-id-1 div.sk-label:hover label.sk-toggleable__label {background-color: #d4ebff;}#sk-container-id-1 div.sk-serial::before {content: \"\";position: absolute;border-left: 1px solid gray;box-sizing: border-box;top: 0;bottom: 0;left: 50%;z-index: 0;}#sk-container-id-1 div.sk-serial {display: flex;flex-direction: column;align-items: center;background-color: white;padding-right: 0.2em;padding-left: 0.2em;position: relative;}#sk-container-id-1 div.sk-item {position: relative;z-index: 1;}#sk-container-id-1 div.sk-parallel {display: flex;align-items: stretch;justify-content: center;background-color: white;position: relative;}#sk-container-id-1 div.sk-item::before, #sk-container-id-1 div.sk-parallel-item::before {content: \"\";position: absolute;border-left: 1px solid gray;box-sizing: border-box;top: 0;bottom: 0;left: 50%;z-index: -1;}#sk-container-id-1 div.sk-parallel-item {display: flex;flex-direction: column;z-index: 1;position: relative;background-color: white;}#sk-container-id-1 div.sk-parallel-item:first-child::after {align-self: flex-end;width: 50%;}#sk-container-id-1 div.sk-parallel-item:last-child::after {align-self: flex-start;width: 50%;}#sk-container-id-1 div.sk-parallel-item:only-child::after {width: 0;}#sk-container-id-1 div.sk-dashed-wrapped {border: 1px dashed gray;margin: 0 0.4em 0.5em 0.4em;box-sizing: border-box;padding-bottom: 0.4em;background-color: white;}#sk-container-id-1 div.sk-label label {font-family: monospace;font-weight: bold;display: inline-block;line-height: 1.2em;}#sk-container-id-1 div.sk-label-container {text-align: center;}#sk-container-id-1 div.sk-container {/* jupyter's `normalize.less` sets `[hidden] { display: none; }` but bootstrap.min.css set `[hidden] { display: none !important; }` so we also need the `!important` here to be able to override the default hidden behavior on the sphinx rendered scikit-learn.org. See: https://github.com/scikit-learn/scikit-learn/issues/21755 */display: inline-block !important;position: relative;}#sk-container-id-1 div.sk-text-repr-fallback {display: none;}</style><div id=\"sk-container-id-1\" class=\"sk-top-container\"><div class=\"sk-text-repr-fallback\"><pre>GridSearchCV(cv=StratifiedKFold(n_splits=5, random_state=23, shuffle=True),\n",
              "             estimator=DecisionTreeClassifier(random_state=23),\n",
              "             param_grid={&#x27;max_depth&#x27;: [2, 3, 4, 5, 6, None],\n",
              "                         &#x27;min_samples_leaf&#x27;: [1, 10, 50],\n",
              "                         &#x27;min_samples_split&#x27;: [2, 5, 10, 30]},\n",
              "             scoring=&#x27;neg_log_loss&#x27;)</pre><b>In a Jupyter environment, please rerun this cell to show the HTML representation or trust the notebook. <br />On GitHub, the HTML representation is unable to render, please try loading this page with nbviewer.org.</b></div><div class=\"sk-container\" hidden><div class=\"sk-item sk-dashed-wrapped\"><div class=\"sk-label-container\"><div class=\"sk-label sk-toggleable\"><input class=\"sk-toggleable__control sk-hidden--visually\" id=\"sk-estimator-id-1\" type=\"checkbox\" ><label for=\"sk-estimator-id-1\" class=\"sk-toggleable__label sk-toggleable__label-arrow\">GridSearchCV</label><div class=\"sk-toggleable__content\"><pre>GridSearchCV(cv=StratifiedKFold(n_splits=5, random_state=23, shuffle=True),\n",
              "             estimator=DecisionTreeClassifier(random_state=23),\n",
              "             param_grid={&#x27;max_depth&#x27;: [2, 3, 4, 5, 6, None],\n",
              "                         &#x27;min_samples_leaf&#x27;: [1, 10, 50],\n",
              "                         &#x27;min_samples_split&#x27;: [2, 5, 10, 30]},\n",
              "             scoring=&#x27;neg_log_loss&#x27;)</pre></div></div></div><div class=\"sk-parallel\"><div class=\"sk-parallel-item\"><div class=\"sk-item\"><div class=\"sk-label-container\"><div class=\"sk-label sk-toggleable\"><input class=\"sk-toggleable__control sk-hidden--visually\" id=\"sk-estimator-id-2\" type=\"checkbox\" ><label for=\"sk-estimator-id-2\" class=\"sk-toggleable__label sk-toggleable__label-arrow\">estimator: DecisionTreeClassifier</label><div class=\"sk-toggleable__content\"><pre>DecisionTreeClassifier(random_state=23)</pre></div></div></div><div class=\"sk-serial\"><div class=\"sk-item\"><div class=\"sk-estimator sk-toggleable\"><input class=\"sk-toggleable__control sk-hidden--visually\" id=\"sk-estimator-id-3\" type=\"checkbox\" ><label for=\"sk-estimator-id-3\" class=\"sk-toggleable__label sk-toggleable__label-arrow\">DecisionTreeClassifier</label><div class=\"sk-toggleable__content\"><pre>DecisionTreeClassifier(random_state=23)</pre></div></div></div></div></div></div></div></div></div></div>"
            ],
            "text/plain": [
              "GridSearchCV(cv=StratifiedKFold(n_splits=5, random_state=23, shuffle=True),\n",
              "             estimator=DecisionTreeClassifier(random_state=23),\n",
              "             param_grid={'max_depth': [2, 3, 4, 5, 6, None],\n",
              "                         'min_samples_leaf': [1, 10, 50],\n",
              "                         'min_samples_split': [2, 5, 10, 30]},\n",
              "             scoring='neg_log_loss')"
            ]
          },
          "execution_count": 6,
          "metadata": {},
          "output_type": "execute_result"
        }
      ],
      "source": [
        "params = {'max_depth':[2,3,4,5,6,None],\n",
        "         'min_samples_split':[2, 5, 10, 30],\n",
        "         'min_samples_leaf': [1, 10, 50]}\n",
        "dtc = DecisionTreeClassifier(random_state=23)\n",
        "kfold = StratifiedKFold(n_splits=5, shuffle=True, random_state=23)\n",
        "gcv_tree = GridSearchCV(dtc, param_grid=params, cv=kfold, scoring='neg_log_loss')\n",
        "gcv_tree.fit(X, y)"
      ]
    },
    {
      "cell_type": "code",
      "execution_count": null,
      "metadata": {
        "id": "65b7cb20",
        "outputId": "82f78c2f-a628-42c6-d95a-f6c148f422c8"
      },
      "outputs": [
        {
          "name": "stdout",
          "output_type": "stream",
          "text": [
            "{'max_depth': 6, 'min_samples_leaf': 50, 'min_samples_split': 2}\n",
            "-0.5720877740971643\n"
          ]
        }
      ],
      "source": [
        "print(gcv_tree.best_params_)\n",
        "print(gcv_tree.best_score_)"
      ]
    },
    {
      "cell_type": "markdown",
      "metadata": {
        "id": "1d8917b2"
      },
      "source": [
        "### Grid Search for Random Forest"
      ]
    },
    {
      "cell_type": "code",
      "execution_count": null,
      "metadata": {
        "id": "00e2bd36",
        "outputId": "72ceac3a-4e6c-46fe-fa9d-484659791126"
      },
      "outputs": [
        {
          "data": {
            "text/html": [
              "<style>#sk-container-id-2 {color: black;background-color: white;}#sk-container-id-2 pre{padding: 0;}#sk-container-id-2 div.sk-toggleable {background-color: white;}#sk-container-id-2 label.sk-toggleable__label {cursor: pointer;display: block;width: 100%;margin-bottom: 0;padding: 0.3em;box-sizing: border-box;text-align: center;}#sk-container-id-2 label.sk-toggleable__label-arrow:before {content: \"▸\";float: left;margin-right: 0.25em;color: #696969;}#sk-container-id-2 label.sk-toggleable__label-arrow:hover:before {color: black;}#sk-container-id-2 div.sk-estimator:hover label.sk-toggleable__label-arrow:before {color: black;}#sk-container-id-2 div.sk-toggleable__content {max-height: 0;max-width: 0;overflow: hidden;text-align: left;background-color: #f0f8ff;}#sk-container-id-2 div.sk-toggleable__content pre {margin: 0.2em;color: black;border-radius: 0.25em;background-color: #f0f8ff;}#sk-container-id-2 input.sk-toggleable__control:checked~div.sk-toggleable__content {max-height: 200px;max-width: 100%;overflow: auto;}#sk-container-id-2 input.sk-toggleable__control:checked~label.sk-toggleable__label-arrow:before {content: \"▾\";}#sk-container-id-2 div.sk-estimator input.sk-toggleable__control:checked~label.sk-toggleable__label {background-color: #d4ebff;}#sk-container-id-2 div.sk-label input.sk-toggleable__control:checked~label.sk-toggleable__label {background-color: #d4ebff;}#sk-container-id-2 input.sk-hidden--visually {border: 0;clip: rect(1px 1px 1px 1px);clip: rect(1px, 1px, 1px, 1px);height: 1px;margin: -1px;overflow: hidden;padding: 0;position: absolute;width: 1px;}#sk-container-id-2 div.sk-estimator {font-family: monospace;background-color: #f0f8ff;border: 1px dotted black;border-radius: 0.25em;box-sizing: border-box;margin-bottom: 0.5em;}#sk-container-id-2 div.sk-estimator:hover {background-color: #d4ebff;}#sk-container-id-2 div.sk-parallel-item::after {content: \"\";width: 100%;border-bottom: 1px solid gray;flex-grow: 1;}#sk-container-id-2 div.sk-label:hover label.sk-toggleable__label {background-color: #d4ebff;}#sk-container-id-2 div.sk-serial::before {content: \"\";position: absolute;border-left: 1px solid gray;box-sizing: border-box;top: 0;bottom: 0;left: 50%;z-index: 0;}#sk-container-id-2 div.sk-serial {display: flex;flex-direction: column;align-items: center;background-color: white;padding-right: 0.2em;padding-left: 0.2em;position: relative;}#sk-container-id-2 div.sk-item {position: relative;z-index: 1;}#sk-container-id-2 div.sk-parallel {display: flex;align-items: stretch;justify-content: center;background-color: white;position: relative;}#sk-container-id-2 div.sk-item::before, #sk-container-id-2 div.sk-parallel-item::before {content: \"\";position: absolute;border-left: 1px solid gray;box-sizing: border-box;top: 0;bottom: 0;left: 50%;z-index: -1;}#sk-container-id-2 div.sk-parallel-item {display: flex;flex-direction: column;z-index: 1;position: relative;background-color: white;}#sk-container-id-2 div.sk-parallel-item:first-child::after {align-self: flex-end;width: 50%;}#sk-container-id-2 div.sk-parallel-item:last-child::after {align-self: flex-start;width: 50%;}#sk-container-id-2 div.sk-parallel-item:only-child::after {width: 0;}#sk-container-id-2 div.sk-dashed-wrapped {border: 1px dashed gray;margin: 0 0.4em 0.5em 0.4em;box-sizing: border-box;padding-bottom: 0.4em;background-color: white;}#sk-container-id-2 div.sk-label label {font-family: monospace;font-weight: bold;display: inline-block;line-height: 1.2em;}#sk-container-id-2 div.sk-label-container {text-align: center;}#sk-container-id-2 div.sk-container {/* jupyter's `normalize.less` sets `[hidden] { display: none; }` but bootstrap.min.css set `[hidden] { display: none !important; }` so we also need the `!important` here to be able to override the default hidden behavior on the sphinx rendered scikit-learn.org. See: https://github.com/scikit-learn/scikit-learn/issues/21755 */display: inline-block !important;position: relative;}#sk-container-id-2 div.sk-text-repr-fallback {display: none;}</style><div id=\"sk-container-id-2\" class=\"sk-top-container\"><div class=\"sk-text-repr-fallback\"><pre>GridSearchCV(cv=StratifiedKFold(n_splits=5, random_state=23, shuffle=True),\n",
              "             estimator=RandomForestClassifier(n_estimators=25, random_state=23),\n",
              "             param_grid={&#x27;max_depth&#x27;: [2, 3, 4, 5, 6, None],\n",
              "                         &#x27;max_features&#x27;: [2, 3, 4],\n",
              "                         &#x27;min_samples_leaf&#x27;: [1, 10, 50],\n",
              "                         &#x27;min_samples_split&#x27;: [2, 5, 10, 30]},\n",
              "             scoring=&#x27;neg_log_loss&#x27;)</pre><b>In a Jupyter environment, please rerun this cell to show the HTML representation or trust the notebook. <br />On GitHub, the HTML representation is unable to render, please try loading this page with nbviewer.org.</b></div><div class=\"sk-container\" hidden><div class=\"sk-item sk-dashed-wrapped\"><div class=\"sk-label-container\"><div class=\"sk-label sk-toggleable\"><input class=\"sk-toggleable__control sk-hidden--visually\" id=\"sk-estimator-id-4\" type=\"checkbox\" ><label for=\"sk-estimator-id-4\" class=\"sk-toggleable__label sk-toggleable__label-arrow\">GridSearchCV</label><div class=\"sk-toggleable__content\"><pre>GridSearchCV(cv=StratifiedKFold(n_splits=5, random_state=23, shuffle=True),\n",
              "             estimator=RandomForestClassifier(n_estimators=25, random_state=23),\n",
              "             param_grid={&#x27;max_depth&#x27;: [2, 3, 4, 5, 6, None],\n",
              "                         &#x27;max_features&#x27;: [2, 3, 4],\n",
              "                         &#x27;min_samples_leaf&#x27;: [1, 10, 50],\n",
              "                         &#x27;min_samples_split&#x27;: [2, 5, 10, 30]},\n",
              "             scoring=&#x27;neg_log_loss&#x27;)</pre></div></div></div><div class=\"sk-parallel\"><div class=\"sk-parallel-item\"><div class=\"sk-item\"><div class=\"sk-label-container\"><div class=\"sk-label sk-toggleable\"><input class=\"sk-toggleable__control sk-hidden--visually\" id=\"sk-estimator-id-5\" type=\"checkbox\" ><label for=\"sk-estimator-id-5\" class=\"sk-toggleable__label sk-toggleable__label-arrow\">estimator: RandomForestClassifier</label><div class=\"sk-toggleable__content\"><pre>RandomForestClassifier(n_estimators=25, random_state=23)</pre></div></div></div><div class=\"sk-serial\"><div class=\"sk-item\"><div class=\"sk-estimator sk-toggleable\"><input class=\"sk-toggleable__control sk-hidden--visually\" id=\"sk-estimator-id-6\" type=\"checkbox\" ><label for=\"sk-estimator-id-6\" class=\"sk-toggleable__label sk-toggleable__label-arrow\">RandomForestClassifier</label><div class=\"sk-toggleable__content\"><pre>RandomForestClassifier(n_estimators=25, random_state=23)</pre></div></div></div></div></div></div></div></div></div></div>"
            ],
            "text/plain": [
              "GridSearchCV(cv=StratifiedKFold(n_splits=5, random_state=23, shuffle=True),\n",
              "             estimator=RandomForestClassifier(n_estimators=25, random_state=23),\n",
              "             param_grid={'max_depth': [2, 3, 4, 5, 6, None],\n",
              "                         'max_features': [2, 3, 4],\n",
              "                         'min_samples_leaf': [1, 10, 50],\n",
              "                         'min_samples_split': [2, 5, 10, 30]},\n",
              "             scoring='neg_log_loss')"
            ]
          },
          "execution_count": 8,
          "metadata": {},
          "output_type": "execute_result"
        }
      ],
      "source": [
        "params = {'max_depth':[2,3,4,5,6,None],\n",
        "         'min_samples_split':[2, 5, 10, 30],\n",
        "         'min_samples_leaf': [1, 10, 50],\n",
        "         'max_features': [2,3,4]}\n",
        "rf = RandomForestClassifier(random_state=23, n_estimators=25)\n",
        "kfold = StratifiedKFold(n_splits=5, shuffle=True, random_state=23)\n",
        "gcv_rf = GridSearchCV(rf, param_grid=params, cv=kfold, scoring='neg_log_loss')\n",
        "gcv_rf.fit(X, y)"
      ]
    },
    {
      "cell_type": "code",
      "execution_count": null,
      "metadata": {
        "id": "49b07bf4",
        "outputId": "f478c7da-d88a-4e3e-a70c-8591f96126a4"
      },
      "outputs": [
        {
          "name": "stdout",
          "output_type": "stream",
          "text": [
            "{'max_depth': None, 'max_features': 4, 'min_samples_leaf': 1, 'min_samples_split': 10}\n",
            "-0.28284728668263054\n"
          ]
        }
      ],
      "source": [
        "print(gcv_rf.best_params_)\n",
        "print(gcv_rf.best_score_)"
      ]
    },
    {
      "cell_type": "markdown",
      "metadata": {
        "id": "7fa6aee0"
      },
      "source": [
        "### Grid Search for XG Boost"
      ]
    },
    {
      "cell_type": "code",
      "execution_count": null,
      "metadata": {
        "id": "4fe77c3d",
        "outputId": "a8645dea-d49d-4987-ff5e-8331e3af73d8"
      },
      "outputs": [
        {
          "data": {
            "text/html": [
              "<style>#sk-container-id-3 {color: black;background-color: white;}#sk-container-id-3 pre{padding: 0;}#sk-container-id-3 div.sk-toggleable {background-color: white;}#sk-container-id-3 label.sk-toggleable__label {cursor: pointer;display: block;width: 100%;margin-bottom: 0;padding: 0.3em;box-sizing: border-box;text-align: center;}#sk-container-id-3 label.sk-toggleable__label-arrow:before {content: \"▸\";float: left;margin-right: 0.25em;color: #696969;}#sk-container-id-3 label.sk-toggleable__label-arrow:hover:before {color: black;}#sk-container-id-3 div.sk-estimator:hover label.sk-toggleable__label-arrow:before {color: black;}#sk-container-id-3 div.sk-toggleable__content {max-height: 0;max-width: 0;overflow: hidden;text-align: left;background-color: #f0f8ff;}#sk-container-id-3 div.sk-toggleable__content pre {margin: 0.2em;color: black;border-radius: 0.25em;background-color: #f0f8ff;}#sk-container-id-3 input.sk-toggleable__control:checked~div.sk-toggleable__content {max-height: 200px;max-width: 100%;overflow: auto;}#sk-container-id-3 input.sk-toggleable__control:checked~label.sk-toggleable__label-arrow:before {content: \"▾\";}#sk-container-id-3 div.sk-estimator input.sk-toggleable__control:checked~label.sk-toggleable__label {background-color: #d4ebff;}#sk-container-id-3 div.sk-label input.sk-toggleable__control:checked~label.sk-toggleable__label {background-color: #d4ebff;}#sk-container-id-3 input.sk-hidden--visually {border: 0;clip: rect(1px 1px 1px 1px);clip: rect(1px, 1px, 1px, 1px);height: 1px;margin: -1px;overflow: hidden;padding: 0;position: absolute;width: 1px;}#sk-container-id-3 div.sk-estimator {font-family: monospace;background-color: #f0f8ff;border: 1px dotted black;border-radius: 0.25em;box-sizing: border-box;margin-bottom: 0.5em;}#sk-container-id-3 div.sk-estimator:hover {background-color: #d4ebff;}#sk-container-id-3 div.sk-parallel-item::after {content: \"\";width: 100%;border-bottom: 1px solid gray;flex-grow: 1;}#sk-container-id-3 div.sk-label:hover label.sk-toggleable__label {background-color: #d4ebff;}#sk-container-id-3 div.sk-serial::before {content: \"\";position: absolute;border-left: 1px solid gray;box-sizing: border-box;top: 0;bottom: 0;left: 50%;z-index: 0;}#sk-container-id-3 div.sk-serial {display: flex;flex-direction: column;align-items: center;background-color: white;padding-right: 0.2em;padding-left: 0.2em;position: relative;}#sk-container-id-3 div.sk-item {position: relative;z-index: 1;}#sk-container-id-3 div.sk-parallel {display: flex;align-items: stretch;justify-content: center;background-color: white;position: relative;}#sk-container-id-3 div.sk-item::before, #sk-container-id-3 div.sk-parallel-item::before {content: \"\";position: absolute;border-left: 1px solid gray;box-sizing: border-box;top: 0;bottom: 0;left: 50%;z-index: -1;}#sk-container-id-3 div.sk-parallel-item {display: flex;flex-direction: column;z-index: 1;position: relative;background-color: white;}#sk-container-id-3 div.sk-parallel-item:first-child::after {align-self: flex-end;width: 50%;}#sk-container-id-3 div.sk-parallel-item:last-child::after {align-self: flex-start;width: 50%;}#sk-container-id-3 div.sk-parallel-item:only-child::after {width: 0;}#sk-container-id-3 div.sk-dashed-wrapped {border: 1px dashed gray;margin: 0 0.4em 0.5em 0.4em;box-sizing: border-box;padding-bottom: 0.4em;background-color: white;}#sk-container-id-3 div.sk-label label {font-family: monospace;font-weight: bold;display: inline-block;line-height: 1.2em;}#sk-container-id-3 div.sk-label-container {text-align: center;}#sk-container-id-3 div.sk-container {/* jupyter's `normalize.less` sets `[hidden] { display: none; }` but bootstrap.min.css set `[hidden] { display: none !important; }` so we also need the `!important` here to be able to override the default hidden behavior on the sphinx rendered scikit-learn.org. See: https://github.com/scikit-learn/scikit-learn/issues/21755 */display: inline-block !important;position: relative;}#sk-container-id-3 div.sk-text-repr-fallback {display: none;}</style><div id=\"sk-container-id-3\" class=\"sk-top-container\"><div class=\"sk-text-repr-fallback\"><pre>GridSearchCV(cv=StratifiedKFold(n_splits=5, random_state=23, shuffle=True),\n",
              "             estimator=XGBClassifier(base_score=None, booster=None,\n",
              "                                     callbacks=None, colsample_bylevel=None,\n",
              "                                     colsample_bynode=None,\n",
              "                                     colsample_bytree=None,\n",
              "                                     early_stopping_rounds=None,\n",
              "                                     enable_categorical=False, eval_metric=None,\n",
              "                                     feature_types=None, gamma=None,\n",
              "                                     gpu_id=None, grow_policy=None,\n",
              "                                     importance_typ...\n",
              "                                     max_cat_threshold=None,\n",
              "                                     max_cat_to_onehot=None,\n",
              "                                     max_delta_step=None, max_depth=None,\n",
              "                                     max_leaves=None, min_child_weight=None,\n",
              "                                     missing=nan, monotone_constraints=None,\n",
              "                                     n_estimators=100, n_jobs=None,\n",
              "                                     num_parallel_tree=None, predictor=None,\n",
              "                                     random_state=23, ...),\n",
              "             param_grid={&#x27;learning_rate&#x27;: [0.01, 0.1, 0.4, 0.9],\n",
              "                         &#x27;max_depth&#x27;: [3, 5, None], &#x27;n_estimators&#x27;: [25, 50]},\n",
              "             scoring=&#x27;neg_log_loss&#x27;)</pre><b>In a Jupyter environment, please rerun this cell to show the HTML representation or trust the notebook. <br />On GitHub, the HTML representation is unable to render, please try loading this page with nbviewer.org.</b></div><div class=\"sk-container\" hidden><div class=\"sk-item sk-dashed-wrapped\"><div class=\"sk-label-container\"><div class=\"sk-label sk-toggleable\"><input class=\"sk-toggleable__control sk-hidden--visually\" id=\"sk-estimator-id-7\" type=\"checkbox\" ><label for=\"sk-estimator-id-7\" class=\"sk-toggleable__label sk-toggleable__label-arrow\">GridSearchCV</label><div class=\"sk-toggleable__content\"><pre>GridSearchCV(cv=StratifiedKFold(n_splits=5, random_state=23, shuffle=True),\n",
              "             estimator=XGBClassifier(base_score=None, booster=None,\n",
              "                                     callbacks=None, colsample_bylevel=None,\n",
              "                                     colsample_bynode=None,\n",
              "                                     colsample_bytree=None,\n",
              "                                     early_stopping_rounds=None,\n",
              "                                     enable_categorical=False, eval_metric=None,\n",
              "                                     feature_types=None, gamma=None,\n",
              "                                     gpu_id=None, grow_policy=None,\n",
              "                                     importance_typ...\n",
              "                                     max_cat_threshold=None,\n",
              "                                     max_cat_to_onehot=None,\n",
              "                                     max_delta_step=None, max_depth=None,\n",
              "                                     max_leaves=None, min_child_weight=None,\n",
              "                                     missing=nan, monotone_constraints=None,\n",
              "                                     n_estimators=100, n_jobs=None,\n",
              "                                     num_parallel_tree=None, predictor=None,\n",
              "                                     random_state=23, ...),\n",
              "             param_grid={&#x27;learning_rate&#x27;: [0.01, 0.1, 0.4, 0.9],\n",
              "                         &#x27;max_depth&#x27;: [3, 5, None], &#x27;n_estimators&#x27;: [25, 50]},\n",
              "             scoring=&#x27;neg_log_loss&#x27;)</pre></div></div></div><div class=\"sk-parallel\"><div class=\"sk-parallel-item\"><div class=\"sk-item\"><div class=\"sk-label-container\"><div class=\"sk-label sk-toggleable\"><input class=\"sk-toggleable__control sk-hidden--visually\" id=\"sk-estimator-id-8\" type=\"checkbox\" ><label for=\"sk-estimator-id-8\" class=\"sk-toggleable__label sk-toggleable__label-arrow\">estimator: XGBClassifier</label><div class=\"sk-toggleable__content\"><pre>XGBClassifier(base_score=None, booster=None, callbacks=None,\n",
              "              colsample_bylevel=None, colsample_bynode=None,\n",
              "              colsample_bytree=None, early_stopping_rounds=None,\n",
              "              enable_categorical=False, eval_metric=None, feature_types=None,\n",
              "              gamma=None, gpu_id=None, grow_policy=None, importance_type=None,\n",
              "              interaction_constraints=None, learning_rate=None, max_bin=None,\n",
              "              max_cat_threshold=None, max_cat_to_onehot=None,\n",
              "              max_delta_step=None, max_depth=None, max_leaves=None,\n",
              "              min_child_weight=None, missing=nan, monotone_constraints=None,\n",
              "              n_estimators=100, n_jobs=None, num_parallel_tree=None,\n",
              "              predictor=None, random_state=23, ...)</pre></div></div></div><div class=\"sk-serial\"><div class=\"sk-item\"><div class=\"sk-estimator sk-toggleable\"><input class=\"sk-toggleable__control sk-hidden--visually\" id=\"sk-estimator-id-9\" type=\"checkbox\" ><label for=\"sk-estimator-id-9\" class=\"sk-toggleable__label sk-toggleable__label-arrow\">XGBClassifier</label><div class=\"sk-toggleable__content\"><pre>XGBClassifier(base_score=None, booster=None, callbacks=None,\n",
              "              colsample_bylevel=None, colsample_bynode=None,\n",
              "              colsample_bytree=None, early_stopping_rounds=None,\n",
              "              enable_categorical=False, eval_metric=None, feature_types=None,\n",
              "              gamma=None, gpu_id=None, grow_policy=None, importance_type=None,\n",
              "              interaction_constraints=None, learning_rate=None, max_bin=None,\n",
              "              max_cat_threshold=None, max_cat_to_onehot=None,\n",
              "              max_delta_step=None, max_depth=None, max_leaves=None,\n",
              "              min_child_weight=None, missing=nan, monotone_constraints=None,\n",
              "              n_estimators=100, n_jobs=None, num_parallel_tree=None,\n",
              "              predictor=None, random_state=23, ...)</pre></div></div></div></div></div></div></div></div></div></div>"
            ],
            "text/plain": [
              "GridSearchCV(cv=StratifiedKFold(n_splits=5, random_state=23, shuffle=True),\n",
              "             estimator=XGBClassifier(base_score=None, booster=None,\n",
              "                                     callbacks=None, colsample_bylevel=None,\n",
              "                                     colsample_bynode=None,\n",
              "                                     colsample_bytree=None,\n",
              "                                     early_stopping_rounds=None,\n",
              "                                     enable_categorical=False, eval_metric=None,\n",
              "                                     feature_types=None, gamma=None,\n",
              "                                     gpu_id=None, grow_policy=None,\n",
              "                                     importance_typ...\n",
              "                                     max_cat_threshold=None,\n",
              "                                     max_cat_to_onehot=None,\n",
              "                                     max_delta_step=None, max_depth=None,\n",
              "                                     max_leaves=None, min_child_weight=None,\n",
              "                                     missing=nan, monotone_constraints=None,\n",
              "                                     n_estimators=100, n_jobs=None,\n",
              "                                     num_parallel_tree=None, predictor=None,\n",
              "                                     random_state=23, ...),\n",
              "             param_grid={'learning_rate': [0.01, 0.1, 0.4, 0.9],\n",
              "                         'max_depth': [3, 5, None], 'n_estimators': [25, 50]},\n",
              "             scoring='neg_log_loss')"
            ]
          },
          "execution_count": 10,
          "metadata": {},
          "output_type": "execute_result"
        }
      ],
      "source": [
        "gbm = XGBClassifier(random_state=23)\n",
        "params = {'learning_rate':[0.01, 0.1, 0.4, 0.9],\n",
        "          'max_depth':[3, 5, None],\n",
        "          'n_estimators':[25, 50]}\n",
        "kfold = StratifiedKFold(n_splits=5, shuffle=True, random_state=23)\n",
        "gcv_gbm = GridSearchCV(gbm, param_grid=params, cv=kfold, scoring='neg_log_loss')\n",
        "gcv_gbm.fit(X, y)"
      ]
    },
    {
      "cell_type": "code",
      "execution_count": null,
      "metadata": {
        "id": "af948d7e",
        "outputId": "8398785c-ce24-4161-dc9a-334315b28b57"
      },
      "outputs": [
        {
          "name": "stdout",
          "output_type": "stream",
          "text": [
            "{'learning_rate': 0.4, 'max_depth': 3, 'n_estimators': 50}\n",
            "-0.24102128345654622\n"
          ]
        }
      ],
      "source": [
        "print(gcv_gbm.best_params_)\n",
        "print(gcv_gbm.best_score_)"
      ]
    },
    {
      "cell_type": "markdown",
      "metadata": {
        "id": "06f350aa"
      },
      "source": [
        "#### Scores:"
      ]
    },
    {
      "cell_type": "code",
      "execution_count": null,
      "metadata": {
        "id": "878164e5",
        "outputId": "f437717b-69b2-47d0-f11d-9c89c4d6b410"
      },
      "outputs": [
        {
          "name": "stdout",
          "output_type": "stream",
          "text": [
            "Log Loss for Tree = -0.5720877740971643\n",
            "Log Loss for RF = -0.28284728668263054\n",
            "Log Loss for XGB = -0.24102128345654622\n"
          ]
        }
      ],
      "source": [
        "print(\"Log Loss for Tree =\", gcv_tree.best_score_)\n",
        "print(\"Log Loss for RF =\", gcv_rf.best_score_)\n",
        "print(\"Log Loss for XGB =\", gcv_gbm.best_score_)"
      ]
    },
    {
      "cell_type": "markdown",
      "metadata": {
        "id": "0744c01f"
      },
      "source": [
        "### Stack Ensembler"
      ]
    },
    {
      "cell_type": "code",
      "execution_count": null,
      "metadata": {
        "id": "48a72ade"
      },
      "outputs": [],
      "source": [
        "stack = StackingClassifier(estimators=[('TREE', gcv_tree),('RF',gcv_rf),('XGB',gcv_gbm)],\n",
        "                           final_estimator=gcv_rf, passthrough=True)\n",
        "kfold = StratifiedKFold(n_splits=5, shuffle=True, random_state=23)\n",
        "results = cross_val_score(stack, X, y, scoring='neg_log_loss', cv=kfold)\n",
        "score_stack = results.mean()"
      ]
    },
    {
      "cell_type": "code",
      "execution_count": null,
      "metadata": {
        "id": "972aaed4"
      },
      "outputs": [],
      "source": [
        "print(\"Log Loss with Stacking =\", score_stack)"
      ]
    },
    {
      "cell_type": "markdown",
      "metadata": {
        "id": "fcfdf0da"
      },
      "source": [
        "## Best Model"
      ]
    },
    {
      "cell_type": "markdown",
      "metadata": {
        "id": "5cb35862"
      },
      "source": [
        "The model with best score here seems to be XG Boost as the log loss score is closer to zero for XG Boost."
      ]
    },
    {
      "cell_type": "code",
      "execution_count": null,
      "metadata": {
        "id": "858051c3"
      },
      "outputs": [],
      "source": [
        "best_model = gcv_gbm.best_estimator_"
      ]
    },
    {
      "cell_type": "markdown",
      "metadata": {
        "id": "6c869197"
      },
      "source": [
        "## Inferencing"
      ]
    },
    {
      "cell_type": "markdown",
      "metadata": {
        "id": "7e9c2ffe"
      },
      "source": [
        "#### Unlabeled Data:"
      ]
    },
    {
      "cell_type": "code",
      "execution_count": null,
      "metadata": {
        "id": "71d3899a",
        "outputId": "17ebefdf-3c5f-469f-c7ad-d6e48f2442e1"
      },
      "outputs": [
        {
          "data": {
            "text/html": [
              "<div>\n",
              "<style scoped>\n",
              "    .dataframe tbody tr th:only-of-type {\n",
              "        vertical-align: middle;\n",
              "    }\n",
              "\n",
              "    .dataframe tbody tr th {\n",
              "        vertical-align: top;\n",
              "    }\n",
              "\n",
              "    .dataframe thead th {\n",
              "        text-align: right;\n",
              "    }\n",
              "</style>\n",
              "<table border=\"1\" class=\"dataframe\">\n",
              "  <thead>\n",
              "    <tr style=\"text-align: right;\">\n",
              "      <th></th>\n",
              "      <th>x.1</th>\n",
              "      <th>x.2</th>\n",
              "      <th>x.3</th>\n",
              "      <th>x.4</th>\n",
              "      <th>x.5</th>\n",
              "      <th>x.6</th>\n",
              "      <th>x.7</th>\n",
              "      <th>x.8</th>\n",
              "      <th>x.9</th>\n",
              "      <th>x.10</th>\n",
              "      <th>...</th>\n",
              "      <th>x.27</th>\n",
              "      <th>x.28</th>\n",
              "      <th>x.29</th>\n",
              "      <th>x.30</th>\n",
              "      <th>x.31</th>\n",
              "      <th>x.32</th>\n",
              "      <th>x.33</th>\n",
              "      <th>x.34</th>\n",
              "      <th>x.35</th>\n",
              "      <th>x.36</th>\n",
              "    </tr>\n",
              "  </thead>\n",
              "  <tbody>\n",
              "    <tr>\n",
              "      <th>0</th>\n",
              "      <td>104</td>\n",
              "      <td>97</td>\n",
              "      <td>106</td>\n",
              "      <td>79</td>\n",
              "      <td>94</td>\n",
              "      <td>91</td>\n",
              "      <td>85</td>\n",
              "      <td>87</td>\n",
              "      <td>106</td>\n",
              "      <td>92</td>\n",
              "      <td>...</td>\n",
              "      <td>100</td>\n",
              "      <td>80</td>\n",
              "      <td>110</td>\n",
              "      <td>102</td>\n",
              "      <td>87</td>\n",
              "      <td>105</td>\n",
              "      <td>89</td>\n",
              "      <td>81</td>\n",
              "      <td>100</td>\n",
              "      <td>75</td>\n",
              "    </tr>\n",
              "    <tr>\n",
              "      <th>1</th>\n",
              "      <td>99</td>\n",
              "      <td>105</td>\n",
              "      <td>99</td>\n",
              "      <td>95</td>\n",
              "      <td>101</td>\n",
              "      <td>110</td>\n",
              "      <td>91</td>\n",
              "      <td>101</td>\n",
              "      <td>96</td>\n",
              "      <td>83</td>\n",
              "      <td>...</td>\n",
              "      <td>80</td>\n",
              "      <td>84</td>\n",
              "      <td>75</td>\n",
              "      <td>107</td>\n",
              "      <td>85</td>\n",
              "      <td>94</td>\n",
              "      <td>100</td>\n",
              "      <td>96</td>\n",
              "      <td>79</td>\n",
              "      <td>110</td>\n",
              "    </tr>\n",
              "    <tr>\n",
              "      <th>2</th>\n",
              "      <td>98</td>\n",
              "      <td>78</td>\n",
              "      <td>91</td>\n",
              "      <td>104</td>\n",
              "      <td>105</td>\n",
              "      <td>103</td>\n",
              "      <td>84</td>\n",
              "      <td>91</td>\n",
              "      <td>106</td>\n",
              "      <td>82</td>\n",
              "      <td>...</td>\n",
              "      <td>95</td>\n",
              "      <td>81</td>\n",
              "      <td>76</td>\n",
              "      <td>99</td>\n",
              "      <td>97</td>\n",
              "      <td>95</td>\n",
              "      <td>88</td>\n",
              "      <td>78</td>\n",
              "      <td>103</td>\n",
              "      <td>75</td>\n",
              "    </tr>\n",
              "    <tr>\n",
              "      <th>3</th>\n",
              "      <td>75</td>\n",
              "      <td>98</td>\n",
              "      <td>98</td>\n",
              "      <td>104</td>\n",
              "      <td>89</td>\n",
              "      <td>90</td>\n",
              "      <td>100</td>\n",
              "      <td>81</td>\n",
              "      <td>88</td>\n",
              "      <td>88</td>\n",
              "      <td>...</td>\n",
              "      <td>108</td>\n",
              "      <td>86</td>\n",
              "      <td>88</td>\n",
              "      <td>86</td>\n",
              "      <td>106</td>\n",
              "      <td>89</td>\n",
              "      <td>76</td>\n",
              "      <td>79</td>\n",
              "      <td>79</td>\n",
              "      <td>91</td>\n",
              "    </tr>\n",
              "    <tr>\n",
              "      <th>4</th>\n",
              "      <td>92</td>\n",
              "      <td>108</td>\n",
              "      <td>89</td>\n",
              "      <td>89</td>\n",
              "      <td>92</td>\n",
              "      <td>108</td>\n",
              "      <td>78</td>\n",
              "      <td>94</td>\n",
              "      <td>84</td>\n",
              "      <td>88</td>\n",
              "      <td>...</td>\n",
              "      <td>91</td>\n",
              "      <td>106</td>\n",
              "      <td>84</td>\n",
              "      <td>106</td>\n",
              "      <td>96</td>\n",
              "      <td>81</td>\n",
              "      <td>91</td>\n",
              "      <td>76</td>\n",
              "      <td>84</td>\n",
              "      <td>106</td>\n",
              "    </tr>\n",
              "  </tbody>\n",
              "</table>\n",
              "<p>5 rows × 36 columns</p>\n",
              "</div>"
            ],
            "text/plain": [
              "   x.1  x.2  x.3  x.4  x.5  x.6  x.7  x.8  x.9  x.10  ...  x.27  x.28  x.29  \\\n",
              "0  104   97  106   79   94   91   85   87  106    92  ...   100    80   110   \n",
              "1   99  105   99   95  101  110   91  101   96    83  ...    80    84    75   \n",
              "2   98   78   91  104  105  103   84   91  106    82  ...    95    81    76   \n",
              "3   75   98   98  104   89   90  100   81   88    88  ...   108    86    88   \n",
              "4   92  108   89   89   92  108   78   94   84    88  ...    91   106    84   \n",
              "\n",
              "   x.30  x.31  x.32  x.33  x.34  x.35  x.36  \n",
              "0   102    87   105    89    81   100    75  \n",
              "1   107    85    94   100    96    79   110  \n",
              "2    99    97    95    88    78   103    75  \n",
              "3    86   106    89    76    79    79    91  \n",
              "4   106    96    81    91    76    84   106  \n",
              "\n",
              "[5 rows x 36 columns]"
            ]
          },
          "execution_count": 15,
          "metadata": {},
          "output_type": "execute_result"
        }
      ],
      "source": [
        "tst = pd.read_csv(\"tst_satellite.csv\")\n",
        "tst.head()"
      ]
    },
    {
      "cell_type": "code",
      "execution_count": null,
      "metadata": {
        "id": "eb5ffded",
        "outputId": "331bf7c7-e932-42c5-8c95-1fa760011590"
      },
      "outputs": [
        {
          "data": {
            "text/plain": [
              "array(['grey soil', 'grey soil', 'grey soil', 'grey soil', 'grey soil',\n",
              "       'grey soil', 'grey soil', 'grey soil', 'grey soil', 'grey soil',\n",
              "       'grey soil', 'grey soil', 'very damp grey soil', 'grey soil',\n",
              "       'grey soil', 'grey soil', 'grey soil', 'grey soil'], dtype=object)"
            ]
          },
          "execution_count": 18,
          "metadata": {},
          "output_type": "execute_result"
        }
      ],
      "source": [
        "predictions = best_model.predict(tst)\n",
        "le.inverse_transform(predictions)"
      ]
    },
    {
      "cell_type": "code",
      "execution_count": null,
      "metadata": {
        "id": "5ef927bc"
      },
      "outputs": [],
      "source": []
    },
    {
      "cell_type": "markdown",
      "metadata": {
        "id": "WlSlqUlIAbxp"
      },
      "source": [
        "Loading the MNIST Fashion dataset"
      ]
    }
  ]
}